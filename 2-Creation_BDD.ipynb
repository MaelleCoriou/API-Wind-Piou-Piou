{
 "cells": [
  {
   "cell_type": "code",
   "execution_count": 1,
   "metadata": {},
   "outputs": [],
   "source": [
    "import sqlite3\n",
    "import schedule\n",
    "import time\n",
    "import SQLite3_functions"
   ]
  },
  {
   "cell_type": "code",
   "execution_count": 2,
   "metadata": {},
   "outputs": [],
   "source": [
    "Bdd = 'PiouPiou.db'\n",
    "conn = sqlite3.connect(Bdd)"
   ]
  },
  {
   "cell_type": "code",
   "execution_count": 3,
   "metadata": {},
   "outputs": [],
   "source": [
    "sql_insertion_table = ('''CREATE TABLE IF NOT EXISTS Infos(\n",
    "                            id integer,\n",
    "                            location_date DATE,\n",
    "                            latitude REAL,\n",
    "                            longitude REAL,\n",
    "                            success TEXT,\n",
    "                            measurements_date DATE,\n",
    "                            pressure TEXT,\n",
    "                            wind_heading REAL,\n",
    "                            wind_speed_avg REAL,\n",
    "                            wind_speed_max REAL,\n",
    "                            wind_speed_min REAL,\n",
    "                            name TEXT,\n",
    "                            status_date DATE,\n",
    "                            snr REAL,\n",
    "                            state TEXT);\n",
    "''')"
   ]
  },
  {
   "cell_type": "code",
   "execution_count": 4,
   "metadata": {},
   "outputs": [
    {
     "name": "stdout",
     "output_type": "stream",
     "text": [
      "La table a été créée avec succès\n"
     ]
    }
   ],
   "source": [
    "SQLite3_functions.creer_table(conn, sql_insertion_table)"
   ]
  },
  {
   "cell_type": "code",
   "execution_count": 5,
   "metadata": {},
   "outputs": [],
   "source": [
    "import requests\n",
    "import json"
   ]
  },
  {
   "cell_type": "code",
   "execution_count": 6,
   "metadata": {},
   "outputs": [],
   "source": [
    "response = requests.get('http://api.pioupiou.fr/v1/live-with-meta/all')"
   ]
  },
  {
   "cell_type": "code",
   "execution_count": 7,
   "metadata": {},
   "outputs": [],
   "source": [
    "response_1 = json.loads(response.text)"
   ]
  },
  {
   "cell_type": "code",
   "execution_count": 8,
   "metadata": {},
   "outputs": [
    {
     "data": {
      "text/plain": [
       "<function dict.keys>"
      ]
     },
     "execution_count": 8,
     "metadata": {},
     "output_type": "execute_result"
    }
   ],
   "source": [
    "response_1.keys"
   ]
  },
  {
   "cell_type": "code",
   "execution_count": 9,
   "metadata": {},
   "outputs": [],
   "source": [
    "data = []\n",
    "loc = [410,113,307]\n",
    "\n",
    "for e in loc:\n",
    "    k = '/'+str(e)\n",
    "    response = requests.get('http://api.pioupiou.fr/v1/live-with-meta'+k+'')\n",
    "    # Création dictionnaire Python méthode json.loads et décodeur .text\n",
    "    response_info = json.loads(response.text)\n",
    "\n",
    "    data.append([response_info['data']['id'], response_info['data']['location']['date'], response_info['data']['location']['latitude'], \n",
    "                    response_info['data']['location']['longitude'], response_info['data']['location']['success'], \n",
    "                    response_info['data']['measurements']['date'], response_info['data']['measurements']['pressure'], \n",
    "                    response_info['data']['measurements']['wind_heading'], response_info['data']['measurements']['wind_speed_avg'],  \n",
    "                    response_info['data']['measurements']['wind_speed_max'], response_info['data']['measurements']['wind_speed_min'], \n",
    "                    response_info['data']['meta']['name'], response_info['data']['meta']['date'], response_info['data']['status']['snr'], \n",
    "                    response_info['data']['status']['state']]\n",
    "                )\n",
    "        # print(response_info)"
   ]
  },
  {
   "cell_type": "code",
   "execution_count": 10,
   "metadata": {},
   "outputs": [],
   "source": [
    "Insérer_Données = ('''\n",
    "    INSERT INTO Infos (id, location_date, latitude, longitude, success, measurements_date, pressure, \n",
    "    wind_heading, wind_speed_avg, wind_speed_max, wind_speed_min, name, status_date, snr, state)\n",
    "    VALUES (?,?,?,?,?,?,?,?,?,?,?,?,?,?,?);\n",
    "    ''')"
   ]
  },
  {
   "cell_type": "code",
   "execution_count": 11,
   "metadata": {},
   "outputs": [],
   "source": [
    "def boucle():\n",
    "    SQLite3_functions.inserer_donnees(conn, Insérer_Données, data)"
   ]
  },
  {
   "cell_type": "code",
   "execution_count": 12,
   "metadata": {},
   "outputs": [],
   "source": [
    "source = conn\n",
    "bck = sqlite3.connect('backup.db')\n",
    "source.backup(bck)"
   ]
  },
  {
   "cell_type": "code",
   "execution_count": 13,
   "metadata": {},
   "outputs": [],
   "source": [
    "def check_table():\n",
    "    \n",
    "    with sqlite3.connect('PiouPiou.db') as db:\n",
    "        \n",
    "        cursor = db.cursor()\n",
    "        cursor.execute('''SELECT COUNT(rowid) \n",
    "                        FROM Infos''')\n",
    "        result = cursor.fetchall()\n",
    "        return result[0][0]"
   ]
  },
  {
   "cell_type": "code",
   "execution_count": 14,
   "metadata": {},
   "outputs": [
    {
     "data": {
      "text/plain": [
       "10"
      ]
     },
     "execution_count": 14,
     "metadata": {},
     "output_type": "execute_result"
    }
   ],
   "source": [
    "check_table()"
   ]
  },
  {
   "cell_type": "code",
   "execution_count": 15,
   "metadata": {},
   "outputs": [],
   "source": [
    "def del_rows():\n",
    "\n",
    "    with sqlite3.connect('PiouPiou.db') as db:\n",
    "        \n",
    "        cursor = db.cursor()\n",
    "        \n",
    "        cursor.execute('''DELETE\n",
    "                          FROM Infos\n",
    "                          WHERE rowid IN (Select rowid from Infos limit 4);\n",
    "                        ''')"
   ]
  },
  {
   "cell_type": "code",
   "execution_count": 16,
   "metadata": {},
   "outputs": [],
   "source": [
    "def gestion():\n",
    "\n",
    "    from datetime import datetime\n",
    "    \n",
    "    if check_table() > 9 :\n",
    "        del_rows()\n",
    "        print ('Delete succeed :', check_table(), 'rows in Database', datetime.now())\n",
    "\n",
    "    else :\n",
    "        print ('Nothing to delete', datetime.now())"
   ]
  },
  {
   "cell_type": "code",
   "execution_count": 17,
   "metadata": {},
   "outputs": [],
   "source": [
    "def backup(conn):\n",
    "    \n",
    "    bck = sqlite3.connect('PiouPiou.db')\n",
    "    \n",
    "    with bck :\n",
    "        conn.backup(bck)\n",
    "        print ('Backup succeed', datetime.now())\n",
    "    \n",
    "    bck.close()\n",
    "    conn.close()"
   ]
  },
  {
   "cell_type": "code",
   "execution_count": 19,
   "metadata": {},
   "outputs": [],
   "source": [
    "def backup_table():\n",
    "    \n",
    "    if check_table() == 10 :\n",
    "        backup(conn)"
   ]
  },
  {
   "cell_type": "code",
   "execution_count": 20,
   "metadata": {},
   "outputs": [],
   "source": [
    "def foil():\n",
    "    \n",
    "    gestion()\n",
    "    boucle()      \n",
    "    \n",
    "    schedule.every(1).minutes.do(boucle)\n",
    "    schedule.every(13).seconds.do(backup_table)\n",
    "    schedule.every(50).seconds.do(gestion)\n",
    "    \n",
    "    while True:\n",
    "        schedule.run_pending()\n",
    "        time.sleep(1)"
   ]
  },
  {
   "cell_type": "code",
   "execution_count": null,
   "metadata": {},
   "outputs": [
    {
     "name": "stdout",
     "output_type": "stream",
     "text": [
      "Delete succeed : 6 rows in Database 2021-03-17 13:57:07.740611\n",
      "Les données ont été insérées avec succès\n",
      "Nothing to delete 2021-03-17 13:57:58.316903\n",
      "Les données ont été insérées avec succès\n",
      "Delete succeed : 8 rows in Database 2021-03-17 13:58:48.909391\n",
      "Les données ont été insérées avec succès\n",
      "Delete succeed : 7 rows in Database 2021-03-17 13:59:39.550536\n",
      "Les données ont été insérées avec succès\n"
     ]
    }
   ],
   "source": [
    "foil()"
   ]
  },
  {
   "cell_type": "code",
   "execution_count": null,
   "metadata": {},
   "outputs": [],
   "source": []
  }
 ],
 "metadata": {
  "kernelspec": {
   "display_name": "Python 3",
   "language": "python",
   "name": "python3"
  },
  "language_info": {
   "codemirror_mode": {
    "name": "ipython",
    "version": 3
   },
   "file_extension": ".py",
   "mimetype": "text/x-python",
   "name": "python",
   "nbconvert_exporter": "python",
   "pygments_lexer": "ipython3",
   "version": "3.8.6"
  }
 },
 "nbformat": 4,
 "nbformat_minor": 4
}
